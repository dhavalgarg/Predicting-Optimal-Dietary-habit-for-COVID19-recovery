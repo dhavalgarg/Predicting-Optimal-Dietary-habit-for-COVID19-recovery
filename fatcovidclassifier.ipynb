{
 "cells": [
  {
   "cell_type": "code",
   "execution_count": 1,
   "metadata": {
    "id": "vItdagCivnr9"
   },
   "outputs": [],
   "source": [
    "import pandas as pd\n",
    "import seaborn as sns\n",
    "import numpy as np\n",
    "import matplotlib.pyplot as plt\n",
    "%matplotlib inline"
   ]
  },
  {
   "cell_type": "code",
   "execution_count": 2,
   "metadata": {
    "colab": {
     "base_uri": "https://localhost:8080/",
     "height": 295
    },
    "id": "WxJqu2cwvnsH",
    "outputId": "516c15a6-64be-4dcc-bff7-f3403983e4ae"
   },
   "outputs": [
    {
     "data": {
      "text/html": [
       "<div>\n",
       "<style scoped>\n",
       "    .dataframe tbody tr th:only-of-type {\n",
       "        vertical-align: middle;\n",
       "    }\n",
       "\n",
       "    .dataframe tbody tr th {\n",
       "        vertical-align: top;\n",
       "    }\n",
       "\n",
       "    .dataframe thead th {\n",
       "        text-align: right;\n",
       "    }\n",
       "</style>\n",
       "<table border=\"1\" class=\"dataframe\">\n",
       "  <thead>\n",
       "    <tr style=\"text-align: right;\">\n",
       "      <th></th>\n",
       "      <th>Country</th>\n",
       "      <th>Alcoholic Beverages</th>\n",
       "      <th>Animal Products</th>\n",
       "      <th>Animal fats</th>\n",
       "      <th>Aquatic Products, Other</th>\n",
       "      <th>Cereals - Excluding Beer</th>\n",
       "      <th>Eggs</th>\n",
       "      <th>Fish, Seafood</th>\n",
       "      <th>Fruits - Excluding Wine</th>\n",
       "      <th>Meat</th>\n",
       "      <th>...</th>\n",
       "      <th>Stimulants</th>\n",
       "      <th>Sugar Crops</th>\n",
       "      <th>Sugar &amp; Sweeteners</th>\n",
       "      <th>Treenuts</th>\n",
       "      <th>Vegetal Products</th>\n",
       "      <th>Vegetable Oils</th>\n",
       "      <th>Vegetables</th>\n",
       "      <th>Obesity</th>\n",
       "      <th>Undernourished</th>\n",
       "      <th>Recovery_rate_percentage</th>\n",
       "    </tr>\n",
       "  </thead>\n",
       "  <tbody>\n",
       "    <tr>\n",
       "      <th>0</th>\n",
       "      <td>Afghanistan</td>\n",
       "      <td>0.0</td>\n",
       "      <td>21.6397</td>\n",
       "      <td>6.2224</td>\n",
       "      <td>0.0</td>\n",
       "      <td>8.0353</td>\n",
       "      <td>0.6859</td>\n",
       "      <td>0.0327</td>\n",
       "      <td>0.4246</td>\n",
       "      <td>6.1244</td>\n",
       "      <td>...</td>\n",
       "      <td>0.0980</td>\n",
       "      <td>0.0</td>\n",
       "      <td>0.0</td>\n",
       "      <td>0.7513</td>\n",
       "      <td>28.3684</td>\n",
       "      <td>17.0831</td>\n",
       "      <td>0.3593</td>\n",
       "      <td>4.5</td>\n",
       "      <td>29.8</td>\n",
       "      <td>86.801012</td>\n",
       "    </tr>\n",
       "    <tr>\n",
       "      <th>1</th>\n",
       "      <td>Albania</td>\n",
       "      <td>0.0</td>\n",
       "      <td>32.0002</td>\n",
       "      <td>3.4172</td>\n",
       "      <td>0.0</td>\n",
       "      <td>2.6734</td>\n",
       "      <td>1.6448</td>\n",
       "      <td>0.1445</td>\n",
       "      <td>0.6418</td>\n",
       "      <td>8.7428</td>\n",
       "      <td>...</td>\n",
       "      <td>0.5270</td>\n",
       "      <td>0.0</td>\n",
       "      <td>0.0</td>\n",
       "      <td>0.9181</td>\n",
       "      <td>17.9998</td>\n",
       "      <td>9.2443</td>\n",
       "      <td>0.6503</td>\n",
       "      <td>22.3</td>\n",
       "      <td>6.2</td>\n",
       "      <td>60.413005</td>\n",
       "    </tr>\n",
       "    <tr>\n",
       "      <th>2</th>\n",
       "      <td>Algeria</td>\n",
       "      <td>0.0</td>\n",
       "      <td>14.4175</td>\n",
       "      <td>0.8972</td>\n",
       "      <td>0.0</td>\n",
       "      <td>4.2035</td>\n",
       "      <td>1.2171</td>\n",
       "      <td>0.2008</td>\n",
       "      <td>0.5772</td>\n",
       "      <td>3.8961</td>\n",
       "      <td>...</td>\n",
       "      <td>0.2886</td>\n",
       "      <td>0.0</td>\n",
       "      <td>0.0</td>\n",
       "      <td>0.8595</td>\n",
       "      <td>35.5857</td>\n",
       "      <td>27.3606</td>\n",
       "      <td>0.5145</td>\n",
       "      <td>26.6</td>\n",
       "      <td>3.9</td>\n",
       "      <td>68.425558</td>\n",
       "    </tr>\n",
       "    <tr>\n",
       "      <th>3</th>\n",
       "      <td>Angola</td>\n",
       "      <td>0.0</td>\n",
       "      <td>15.3041</td>\n",
       "      <td>1.3130</td>\n",
       "      <td>0.0</td>\n",
       "      <td>6.5545</td>\n",
       "      <td>0.1539</td>\n",
       "      <td>1.4155</td>\n",
       "      <td>0.3488</td>\n",
       "      <td>11.0268</td>\n",
       "      <td>...</td>\n",
       "      <td>0.1128</td>\n",
       "      <td>0.0</td>\n",
       "      <td>0.0</td>\n",
       "      <td>0.0308</td>\n",
       "      <td>34.7010</td>\n",
       "      <td>22.4638</td>\n",
       "      <td>0.1231</td>\n",
       "      <td>6.8</td>\n",
       "      <td>25.0</td>\n",
       "      <td>92.089522</td>\n",
       "    </tr>\n",
       "    <tr>\n",
       "      <th>4</th>\n",
       "      <td>Antigua and Barbuda</td>\n",
       "      <td>0.0</td>\n",
       "      <td>27.7033</td>\n",
       "      <td>4.6686</td>\n",
       "      <td>0.0</td>\n",
       "      <td>3.2153</td>\n",
       "      <td>0.3872</td>\n",
       "      <td>1.5263</td>\n",
       "      <td>1.2177</td>\n",
       "      <td>14.3202</td>\n",
       "      <td>...</td>\n",
       "      <td>1.0549</td>\n",
       "      <td>0.0</td>\n",
       "      <td>0.0</td>\n",
       "      <td>0.2020</td>\n",
       "      <td>22.2995</td>\n",
       "      <td>14.4436</td>\n",
       "      <td>0.2469</td>\n",
       "      <td>19.1</td>\n",
       "      <td>NaN</td>\n",
       "      <td>64.930556</td>\n",
       "    </tr>\n",
       "  </tbody>\n",
       "</table>\n",
       "<p>5 rows × 27 columns</p>\n",
       "</div>"
      ],
      "text/plain": [
       "               Country  Alcoholic Beverages  Animal Products  Animal fats  \\\n",
       "0          Afghanistan                  0.0          21.6397       6.2224   \n",
       "1              Albania                  0.0          32.0002       3.4172   \n",
       "2              Algeria                  0.0          14.4175       0.8972   \n",
       "3               Angola                  0.0          15.3041       1.3130   \n",
       "4  Antigua and Barbuda                  0.0          27.7033       4.6686   \n",
       "\n",
       "   Aquatic Products, Other  Cereals - Excluding Beer    Eggs  Fish, Seafood  \\\n",
       "0                      0.0                    8.0353  0.6859         0.0327   \n",
       "1                      0.0                    2.6734  1.6448         0.1445   \n",
       "2                      0.0                    4.2035  1.2171         0.2008   \n",
       "3                      0.0                    6.5545  0.1539         1.4155   \n",
       "4                      0.0                    3.2153  0.3872         1.5263   \n",
       "\n",
       "   Fruits - Excluding Wine     Meat  ...  Stimulants  Sugar Crops  \\\n",
       "0                   0.4246   6.1244  ...      0.0980          0.0   \n",
       "1                   0.6418   8.7428  ...      0.5270          0.0   \n",
       "2                   0.5772   3.8961  ...      0.2886          0.0   \n",
       "3                   0.3488  11.0268  ...      0.1128          0.0   \n",
       "4                   1.2177  14.3202  ...      1.0549          0.0   \n",
       "\n",
       "   Sugar & Sweeteners  Treenuts  Vegetal Products  Vegetable Oils  Vegetables  \\\n",
       "0                 0.0    0.7513           28.3684         17.0831      0.3593   \n",
       "1                 0.0    0.9181           17.9998          9.2443      0.6503   \n",
       "2                 0.0    0.8595           35.5857         27.3606      0.5145   \n",
       "3                 0.0    0.0308           34.7010         22.4638      0.1231   \n",
       "4                 0.0    0.2020           22.2995         14.4436      0.2469   \n",
       "\n",
       "   Obesity  Undernourished  Recovery_rate_percentage  \n",
       "0      4.5            29.8                 86.801012  \n",
       "1     22.3             6.2                 60.413005  \n",
       "2     26.6             3.9                 68.425558  \n",
       "3      6.8            25.0                 92.089522  \n",
       "4     19.1             NaN                 64.930556  \n",
       "\n",
       "[5 rows x 27 columns]"
      ]
     },
     "execution_count": 2,
     "metadata": {},
     "output_type": "execute_result"
    }
   ],
   "source": [
    "df1=pd.read_csv(\"fattry.csv\")\n",
    "\n",
    "df1.head()"
   ]
  },
  {
   "cell_type": "code",
   "execution_count": 3,
   "metadata": {
    "id": "ISRCOn__vnsJ"
   },
   "outputs": [],
   "source": [
    "df = df1.dropna()"
   ]
  },
  {
   "cell_type": "code",
   "execution_count": 4,
   "metadata": {
    "id": "ndFuVd3LvnsM"
   },
   "outputs": [
    {
     "name": "stdout",
     "output_type": "stream",
     "text": [
      "[2, 5, 5, 1, 2, 0, 1, 1, 0, 2, 3, 0, 5, 0, 3, 5, 4, 3, 2, 2, 2, 0, 0, 1, 1, 0, 3, 1, 1, 1, 5, 4, 1, 0, 3, 5, 2, 0, 0, 1, 5, 3, 4, 2, 4, 5, 2, 1, 5, 5, 1, 1, 0, 2, 1, 5, 1, 0, 2, 2, 4, 5, 5, 0, 0, 3, 2, 0, 5, 2, 3, 5, 2, 0, 2, 3, 2, 1, 0, 1, 3, 5, 5, 1, 5, 1, 0, 5, 4, 2, 5, 2, 0, 1, 4, 5, 2, 0, 5, 0, 0, 5, 0, 5, 2, 3, 2, 5, 1, 1, 2, 3, 1, 1, 3, 4, 1, 2, 5, 5, 0, 4, 0, 3, 5, 5, 1, 2, 5, 1, 5, 1, 5, 1, 5, 5, 1, 5, 4, 3, 0, 4, 0, 5, 2, 1, 5, 5, 5, 2, 0, 0, 1, 5, 5, 2, 3]\n"
     ]
    }
   ],
   "source": [
    "category=[]\n",
    "cat=''\n",
    "for rrp in df['Recovery_rate_percentage']:\n",
    "    if (rrp >=95):\n",
    "        cat=0\n",
    "        category.append(cat)\n",
    "    elif (rrp >=90) & (rrp<95):\n",
    "        cat=1\n",
    "        category.append(cat)\n",
    "    elif (rrp>=85) & (rrp<90):\n",
    "        cat=2\n",
    "        category.append(cat)\n",
    "    elif (rrp>=80) & (rrp<85):\n",
    "        cat=3\n",
    "        category.append(cat)\n",
    "    elif (rrp>=75) & (rrp<80):\n",
    "        cat=4\n",
    "        category.append(cat)\n",
    "    else:\n",
    "        cat=5\n",
    "        category.append(cat)\n",
    "print(category)\n"
   ]
  },
  {
   "cell_type": "code",
   "execution_count": 5,
   "metadata": {},
   "outputs": [],
   "source": [
    "df.insert(27,'Category',category)"
   ]
  },
  {
   "cell_type": "code",
   "execution_count": 6,
   "metadata": {},
   "outputs": [
    {
     "data": {
      "text/html": [
       "<div>\n",
       "<style scoped>\n",
       "    .dataframe tbody tr th:only-of-type {\n",
       "        vertical-align: middle;\n",
       "    }\n",
       "\n",
       "    .dataframe tbody tr th {\n",
       "        vertical-align: top;\n",
       "    }\n",
       "\n",
       "    .dataframe thead th {\n",
       "        text-align: right;\n",
       "    }\n",
       "</style>\n",
       "<table border=\"1\" class=\"dataframe\">\n",
       "  <thead>\n",
       "    <tr style=\"text-align: right;\">\n",
       "      <th></th>\n",
       "      <th>Country</th>\n",
       "      <th>Alcoholic Beverages</th>\n",
       "      <th>Animal Products</th>\n",
       "      <th>Animal fats</th>\n",
       "      <th>Aquatic Products, Other</th>\n",
       "      <th>Cereals - Excluding Beer</th>\n",
       "      <th>Eggs</th>\n",
       "      <th>Fish, Seafood</th>\n",
       "      <th>Fruits - Excluding Wine</th>\n",
       "      <th>Meat</th>\n",
       "      <th>...</th>\n",
       "      <th>Sugar Crops</th>\n",
       "      <th>Sugar &amp; Sweeteners</th>\n",
       "      <th>Treenuts</th>\n",
       "      <th>Vegetal Products</th>\n",
       "      <th>Vegetable Oils</th>\n",
       "      <th>Vegetables</th>\n",
       "      <th>Obesity</th>\n",
       "      <th>Undernourished</th>\n",
       "      <th>Recovery_rate_percentage</th>\n",
       "      <th>Category</th>\n",
       "    </tr>\n",
       "  </thead>\n",
       "  <tbody>\n",
       "    <tr>\n",
       "      <th>0</th>\n",
       "      <td>Afghanistan</td>\n",
       "      <td>0.0</td>\n",
       "      <td>21.6397</td>\n",
       "      <td>6.2224</td>\n",
       "      <td>0.0</td>\n",
       "      <td>8.0353</td>\n",
       "      <td>0.6859</td>\n",
       "      <td>0.0327</td>\n",
       "      <td>0.4246</td>\n",
       "      <td>6.1244</td>\n",
       "      <td>...</td>\n",
       "      <td>0.0</td>\n",
       "      <td>0.0</td>\n",
       "      <td>0.7513</td>\n",
       "      <td>28.3684</td>\n",
       "      <td>17.0831</td>\n",
       "      <td>0.3593</td>\n",
       "      <td>4.5</td>\n",
       "      <td>29.8</td>\n",
       "      <td>86.801012</td>\n",
       "      <td>2</td>\n",
       "    </tr>\n",
       "    <tr>\n",
       "      <th>1</th>\n",
       "      <td>Albania</td>\n",
       "      <td>0.0</td>\n",
       "      <td>32.0002</td>\n",
       "      <td>3.4172</td>\n",
       "      <td>0.0</td>\n",
       "      <td>2.6734</td>\n",
       "      <td>1.6448</td>\n",
       "      <td>0.1445</td>\n",
       "      <td>0.6418</td>\n",
       "      <td>8.7428</td>\n",
       "      <td>...</td>\n",
       "      <td>0.0</td>\n",
       "      <td>0.0</td>\n",
       "      <td>0.9181</td>\n",
       "      <td>17.9998</td>\n",
       "      <td>9.2443</td>\n",
       "      <td>0.6503</td>\n",
       "      <td>22.3</td>\n",
       "      <td>6.2</td>\n",
       "      <td>60.413005</td>\n",
       "      <td>5</td>\n",
       "    </tr>\n",
       "    <tr>\n",
       "      <th>2</th>\n",
       "      <td>Algeria</td>\n",
       "      <td>0.0</td>\n",
       "      <td>14.4175</td>\n",
       "      <td>0.8972</td>\n",
       "      <td>0.0</td>\n",
       "      <td>4.2035</td>\n",
       "      <td>1.2171</td>\n",
       "      <td>0.2008</td>\n",
       "      <td>0.5772</td>\n",
       "      <td>3.8961</td>\n",
       "      <td>...</td>\n",
       "      <td>0.0</td>\n",
       "      <td>0.0</td>\n",
       "      <td>0.8595</td>\n",
       "      <td>35.5857</td>\n",
       "      <td>27.3606</td>\n",
       "      <td>0.5145</td>\n",
       "      <td>26.6</td>\n",
       "      <td>3.9</td>\n",
       "      <td>68.425558</td>\n",
       "      <td>5</td>\n",
       "    </tr>\n",
       "    <tr>\n",
       "      <th>3</th>\n",
       "      <td>Angola</td>\n",
       "      <td>0.0</td>\n",
       "      <td>15.3041</td>\n",
       "      <td>1.3130</td>\n",
       "      <td>0.0</td>\n",
       "      <td>6.5545</td>\n",
       "      <td>0.1539</td>\n",
       "      <td>1.4155</td>\n",
       "      <td>0.3488</td>\n",
       "      <td>11.0268</td>\n",
       "      <td>...</td>\n",
       "      <td>0.0</td>\n",
       "      <td>0.0</td>\n",
       "      <td>0.0308</td>\n",
       "      <td>34.7010</td>\n",
       "      <td>22.4638</td>\n",
       "      <td>0.1231</td>\n",
       "      <td>6.8</td>\n",
       "      <td>25.0</td>\n",
       "      <td>92.089522</td>\n",
       "      <td>1</td>\n",
       "    </tr>\n",
       "    <tr>\n",
       "      <th>5</th>\n",
       "      <td>Argentina</td>\n",
       "      <td>0.0</td>\n",
       "      <td>30.3572</td>\n",
       "      <td>3.3076</td>\n",
       "      <td>0.0</td>\n",
       "      <td>1.3316</td>\n",
       "      <td>1.5706</td>\n",
       "      <td>0.1664</td>\n",
       "      <td>0.2091</td>\n",
       "      <td>19.2693</td>\n",
       "      <td>...</td>\n",
       "      <td>0.0</td>\n",
       "      <td>0.0</td>\n",
       "      <td>0.1366</td>\n",
       "      <td>19.6449</td>\n",
       "      <td>17.3147</td>\n",
       "      <td>0.1878</td>\n",
       "      <td>28.5</td>\n",
       "      <td>4.6</td>\n",
       "      <td>89.647840</td>\n",
       "      <td>2</td>\n",
       "    </tr>\n",
       "  </tbody>\n",
       "</table>\n",
       "<p>5 rows × 28 columns</p>\n",
       "</div>"
      ],
      "text/plain": [
       "       Country  Alcoholic Beverages  Animal Products  Animal fats  \\\n",
       "0  Afghanistan                  0.0          21.6397       6.2224   \n",
       "1      Albania                  0.0          32.0002       3.4172   \n",
       "2      Algeria                  0.0          14.4175       0.8972   \n",
       "3       Angola                  0.0          15.3041       1.3130   \n",
       "5    Argentina                  0.0          30.3572       3.3076   \n",
       "\n",
       "   Aquatic Products, Other  Cereals - Excluding Beer    Eggs  Fish, Seafood  \\\n",
       "0                      0.0                    8.0353  0.6859         0.0327   \n",
       "1                      0.0                    2.6734  1.6448         0.1445   \n",
       "2                      0.0                    4.2035  1.2171         0.2008   \n",
       "3                      0.0                    6.5545  0.1539         1.4155   \n",
       "5                      0.0                    1.3316  1.5706         0.1664   \n",
       "\n",
       "   Fruits - Excluding Wine     Meat  ...  Sugar Crops  Sugar & Sweeteners  \\\n",
       "0                   0.4246   6.1244  ...          0.0                 0.0   \n",
       "1                   0.6418   8.7428  ...          0.0                 0.0   \n",
       "2                   0.5772   3.8961  ...          0.0                 0.0   \n",
       "3                   0.3488  11.0268  ...          0.0                 0.0   \n",
       "5                   0.2091  19.2693  ...          0.0                 0.0   \n",
       "\n",
       "   Treenuts  Vegetal Products  Vegetable Oils  Vegetables  Obesity  \\\n",
       "0    0.7513           28.3684         17.0831      0.3593      4.5   \n",
       "1    0.9181           17.9998          9.2443      0.6503     22.3   \n",
       "2    0.8595           35.5857         27.3606      0.5145     26.6   \n",
       "3    0.0308           34.7010         22.4638      0.1231      6.8   \n",
       "5    0.1366           19.6449         17.3147      0.1878     28.5   \n",
       "\n",
       "   Undernourished  Recovery_rate_percentage  Category  \n",
       "0            29.8                 86.801012         2  \n",
       "1             6.2                 60.413005         5  \n",
       "2             3.9                 68.425558         5  \n",
       "3            25.0                 92.089522         1  \n",
       "5             4.6                 89.647840         2  \n",
       "\n",
       "[5 rows x 28 columns]"
      ]
     },
     "execution_count": 6,
     "metadata": {},
     "output_type": "execute_result"
    }
   ],
   "source": [
    "df.head()"
   ]
  },
  {
   "cell_type": "code",
   "execution_count": 7,
   "metadata": {
    "id": "VCy3DaBZvnsN"
   },
   "outputs": [],
   "source": [
    "from sklearn.model_selection import train_test_split"
   ]
  },
  {
   "cell_type": "code",
   "execution_count": 8,
   "metadata": {
    "colab": {
     "base_uri": "https://localhost:8080/"
    },
    "id": "SAxjmxhSvnsR",
    "outputId": "b0939de6-b5fe-4f80-80b6-220cee2eeb37"
   },
   "outputs": [
    {
     "name": "stderr",
     "output_type": "stream",
     "text": [
      "<ipython-input-8-a9035670ea0f>:4: SettingWithCopyWarning: \n",
      "A value is trying to be set on a copy of a slice from a DataFrame.\n",
      "Try using .loc[row_indexer,col_indexer] = value instead\n",
      "\n",
      "See the caveats in the documentation: https://pandas.pydata.org/pandas-docs/stable/user_guide/indexing.html#returning-a-view-versus-a-copy\n",
      "  df['Country']=label_encoder.fit_transform(df['Country'])\n"
     ]
    }
   ],
   "source": [
    "from sklearn import preprocessing\n",
    "from sklearn.preprocessing import LabelEncoder\n",
    "label_encoder=preprocessing.LabelEncoder()\n",
    "df['Country']=label_encoder.fit_transform(df['Country'])\n"
   ]
  },
  {
   "cell_type": "code",
   "execution_count": 9,
   "metadata": {
    "id": "BS1iFVJaxOi4"
   },
   "outputs": [],
   "source": [
    "y=df.Category\n",
    "x=df.drop('Category',axis=1)"
   ]
  },
  {
   "cell_type": "code",
   "execution_count": 10,
   "metadata": {
    "id": "2dBft78kvnsS"
   },
   "outputs": [],
   "source": [
    "x_train,x_test,y_train,y_test=train_test_split(x,y,test_size=0.2)"
   ]
  },
  {
   "cell_type": "code",
   "execution_count": 11,
   "metadata": {
    "id": "PMwiGkOqvnsT"
   },
   "outputs": [],
   "source": [
    "from sklearn.preprocessing import StandardScaler"
   ]
  },
  {
   "cell_type": "code",
   "execution_count": 12,
   "metadata": {
    "id": "R8sBy88TvnsV"
   },
   "outputs": [],
   "source": [
    "sc=StandardScaler()"
   ]
  },
  {
   "cell_type": "code",
   "execution_count": 13,
   "metadata": {
    "colab": {
     "base_uri": "https://localhost:8080/"
    },
    "id": "sUH36GDowt2l",
    "outputId": "4eed899e-100d-4eb9-850c-f49377da8b64"
   },
   "outputs": [
    {
     "data": {
      "text/plain": [
       "dtype('int64')"
      ]
     },
     "execution_count": 13,
     "metadata": {},
     "output_type": "execute_result"
    }
   ],
   "source": [
    "df['Country'].dtypes"
   ]
  },
  {
   "cell_type": "code",
   "execution_count": 14,
   "metadata": {
    "colab": {
     "base_uri": "https://localhost:8080/",
     "height": 104
    },
    "id": "VU9JlDA6vnsW",
    "outputId": "1c38d88b-c94c-46b1-cd07-bd51facb86d6"
   },
   "outputs": [
    {
     "name": "stderr",
     "output_type": "stream",
     "text": [
      "/opt/anaconda3/lib/python3.8/site-packages/pandas/core/ops/array_ops.py:253: FutureWarning: elementwise comparison failed; returning scalar instead, but in the future will perform elementwise comparison\n",
      "  res_values = method(rvalues)\n"
     ]
    },
    {
     "data": {
      "text/html": [
       "<div>\n",
       "<style scoped>\n",
       "    .dataframe tbody tr th:only-of-type {\n",
       "        vertical-align: middle;\n",
       "    }\n",
       "\n",
       "    .dataframe tbody tr th {\n",
       "        vertical-align: top;\n",
       "    }\n",
       "\n",
       "    .dataframe thead th {\n",
       "        text-align: right;\n",
       "    }\n",
       "</style>\n",
       "<table border=\"1\" class=\"dataframe\">\n",
       "  <thead>\n",
       "    <tr style=\"text-align: right;\">\n",
       "      <th></th>\n",
       "      <th>Country</th>\n",
       "      <th>Alcoholic Beverages</th>\n",
       "      <th>Animal Products</th>\n",
       "      <th>Animal fats</th>\n",
       "      <th>Aquatic Products, Other</th>\n",
       "      <th>Cereals - Excluding Beer</th>\n",
       "      <th>Eggs</th>\n",
       "      <th>Fish, Seafood</th>\n",
       "      <th>Fruits - Excluding Wine</th>\n",
       "      <th>Meat</th>\n",
       "      <th>...</th>\n",
       "      <th>Sugar Crops</th>\n",
       "      <th>Sugar &amp; Sweeteners</th>\n",
       "      <th>Treenuts</th>\n",
       "      <th>Vegetal Products</th>\n",
       "      <th>Vegetable Oils</th>\n",
       "      <th>Vegetables</th>\n",
       "      <th>Obesity</th>\n",
       "      <th>Undernourished</th>\n",
       "      <th>Recovery_rate_percentage</th>\n",
       "      <th>Category</th>\n",
       "    </tr>\n",
       "  </thead>\n",
       "  <tbody>\n",
       "  </tbody>\n",
       "</table>\n",
       "<p>0 rows × 28 columns</p>\n",
       "</div>"
      ],
      "text/plain": [
       "Empty DataFrame\n",
       "Columns: [Country, Alcoholic Beverages, Animal Products, Animal fats, Aquatic Products, Other, Cereals - Excluding Beer, Eggs, Fish, Seafood, Fruits - Excluding Wine, Meat, Miscellaneous, Milk - Excluding Butter, Offals, Oilcrops, Pulses, Spices, Starchy Roots, Stimulants, Sugar Crops, Sugar & Sweeteners, Treenuts, Vegetal Products, Vegetable Oils, Vegetables, Obesity, Undernourished, Recovery_rate_percentage, Category]\n",
       "Index: []\n",
       "\n",
       "[0 rows x 28 columns]"
      ]
     },
     "execution_count": 14,
     "metadata": {},
     "output_type": "execute_result"
    }
   ],
   "source": [
    "df.loc[df['Country']=='Czechia']"
   ]
  },
  {
   "cell_type": "code",
   "execution_count": 15,
   "metadata": {
    "id": "tq4DLMm7vnsX"
   },
   "outputs": [],
   "source": [
    "from sklearn.ensemble import RandomForestClassifier"
   ]
  },
  {
   "cell_type": "code",
   "execution_count": 16,
   "metadata": {
    "colab": {
     "base_uri": "https://localhost:8080/"
    },
    "id": "VX6XqlsfxWL5",
    "outputId": "2d6f853d-4a54-4bdc-bdab-da6d44713fdb"
   },
   "outputs": [
    {
     "data": {
      "text/plain": [
       "Country                     0\n",
       "Alcoholic Beverages         0\n",
       "Animal Products             0\n",
       "Animal fats                 0\n",
       "Aquatic Products, Other     0\n",
       "Cereals - Excluding Beer    0\n",
       "Eggs                        0\n",
       "Fish, Seafood               0\n",
       "Fruits - Excluding Wine     0\n",
       "Meat                        0\n",
       "Miscellaneous               0\n",
       "Milk - Excluding Butter     0\n",
       "Offals                      0\n",
       "Oilcrops                    0\n",
       "Pulses                      0\n",
       "Spices                      0\n",
       "Starchy Roots               0\n",
       "Stimulants                  0\n",
       "Sugar Crops                 0\n",
       "Sugar & Sweeteners          0\n",
       "Treenuts                    0\n",
       "Vegetal Products            0\n",
       "Vegetable Oils              0\n",
       "Vegetables                  0\n",
       "Obesity                     0\n",
       "Undernourished              0\n",
       "Recovery_rate_percentage    0\n",
       "Category                    0\n",
       "dtype: int64"
      ]
     },
     "execution_count": 16,
     "metadata": {},
     "output_type": "execute_result"
    }
   ],
   "source": [
    "df.isnull().sum()"
   ]
  },
  {
   "cell_type": "code",
   "execution_count": 17,
   "metadata": {
    "colab": {
     "base_uri": "https://localhost:8080/"
    },
    "id": "2kzFd3FKvnsX",
    "outputId": "7c47dd63-4e31-4874-af52-258b07f6999f"
   },
   "outputs": [
    {
     "data": {
      "text/plain": [
       "RandomForestClassifier(n_estimators=400, random_state=0)"
      ]
     },
     "execution_count": 17,
     "metadata": {},
     "output_type": "execute_result"
    }
   ],
   "source": [
    "classifier = RandomForestClassifier(n_estimators=400,random_state=0)\n",
    "classifier.fit(x_train,y_train)"
   ]
  },
  {
   "cell_type": "code",
   "execution_count": 18,
   "metadata": {
    "id": "jc6jngtXvnsY"
   },
   "outputs": [],
   "source": [
    "y_pred = classifier.predict(x_test)"
   ]
  },
  {
   "cell_type": "code",
   "execution_count": 19,
   "metadata": {
    "colab": {
     "base_uri": "https://localhost:8080/"
    },
    "id": "mLMa3Lr-vnsZ",
    "outputId": "7022661d-d01e-402d-e196-70c405ed644c"
   },
   "outputs": [
    {
     "name": "stdout",
     "output_type": "stream",
     "text": [
      "Mean Absolute Error: 0.375\n",
      "Mean Squared Error: 0.5625\n",
      "Root Mean Squared Error: 0.75\n"
     ]
    }
   ],
   "source": [
    "from sklearn import metrics\n",
    "\n",
    "print('Mean Absolute Error:', metrics.mean_absolute_error(y_test, y_pred))\n",
    "print('Mean Squared Error:', metrics.mean_squared_error(y_test, y_pred))\n",
    "print('Root Mean Squared Error:', np.sqrt(metrics.mean_squared_error(y_test, y_pred)))\n"
   ]
  },
  {
   "cell_type": "code",
   "execution_count": 20,
   "metadata": {
    "id": "FlLM2OYww9u-"
   },
   "outputs": [
    {
     "name": "stdout",
     "output_type": "stream",
     "text": [
      "Accuracy: 0.71875\n"
     ]
    }
   ],
   "source": [
    "print(\"Accuracy:\",metrics.accuracy_score(y_test,y_pred))"
   ]
  },
  {
   "cell_type": "code",
   "execution_count": null,
   "metadata": {},
   "outputs": [],
   "source": []
  }
 ],
 "metadata": {
  "colab": {
   "name": "proteinroleincovid2.ipynb",
   "provenance": []
  },
  "kernelspec": {
   "display_name": "Python 3",
   "language": "python",
   "name": "python3"
  },
  "language_info": {
   "codemirror_mode": {
    "name": "ipython",
    "version": 3
   },
   "file_extension": ".py",
   "mimetype": "text/x-python",
   "name": "python",
   "nbconvert_exporter": "python",
   "pygments_lexer": "ipython3",
   "version": "3.8.3"
  }
 },
 "nbformat": 4,
 "nbformat_minor": 1
}
